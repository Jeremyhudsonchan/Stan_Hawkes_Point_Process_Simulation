{
 "cells": [
  {
   "cell_type": "code",
   "execution_count": 1,
   "metadata": {},
   "outputs": [],
   "source": [
    "import nest_asyncio\n",
    "nest_asyncio.apply()\n",
    "import stan\n",
    "import matplotlib.pyplot as plt\n",
    "import numpy as np\n",
    "import pandas as pd"
   ]
  },
  {
   "cell_type": "code",
   "execution_count": 2,
   "metadata": {},
   "outputs": [],
   "source": [
    "df = pd.read_csv(\"LockeLowell.csv\")"
   ]
  },
  {
   "cell_type": "code",
   "execution_count": 3,
   "metadata": {},
   "outputs": [
    {
     "name": "stdout",
     "output_type": "stream",
     "text": [
      "      t_date  t_numeric\n",
      "0    1/23/00       0.00\n",
      "1    1/26/00       2.58\n",
      "2     2/3/00      10.89\n",
      "3     2/9/00      16.14\n",
      "4    2/23/00      30.21\n",
      "5    2/27/00      34.60\n",
      "6    2/28/00      35.76\n",
      "7     3/6/00      42.63\n",
      "8    3/11/00      47.62\n",
      "9    6/16/00     144.38\n",
      "10   6/25/00     153.79\n",
      "11   6/30/00     158.63\n",
      "12   7/13/00     172.09\n",
      "13   7/30/00     188.12\n",
      "14   7/31/00     189.63\n",
      "15   8/16/00     206.06\n",
      "16   9/13/00     233.96\n",
      "17   5/31/01     493.71\n",
      "18    6/7/01     501.02\n",
      "19   6/17/01     510.27\n",
      "20   6/26/01     520.04\n",
      "21   6/29/01     523.00\n",
      "22  11/18/01     664.26\n",
      "23   12/6/01     683.09\n",
      "24   5/13/02     840.97\n"
     ]
    }
   ],
   "source": [
    "print(df)"
   ]
  },
  {
   "cell_type": "code",
   "execution_count": 4,
   "metadata": {},
   "outputs": [
    {
     "name": "stdout",
     "output_type": "stream",
     "text": [
      "841\n"
     ]
    }
   ],
   "source": [
    "df.head()\n",
    "# df.shape\n",
    "# df.columns\n",
    "df['t_date'] = pd.to_datetime(df['t_date'])\n",
    "days = (df['t_date'].iloc[-1] - df['t_date'].iloc[0]).days\n",
    "print(days)"
   ]
  },
  {
   "cell_type": "code",
   "execution_count": 5,
   "metadata": {},
   "outputs": [
    {
     "data": {
      "text/plain": [
       "<matplotlib.collections.PathCollection at 0x12e4658a0>"
      ]
     },
     "execution_count": 5,
     "metadata": {},
     "output_type": "execute_result"
    },
    {
     "data": {
      "image/png": "[encoded data removed]",
      "text/plain": [
       "<Figure size 640x480 with 1 Axes>"
      ]
     },
     "metadata": {},
     "output_type": "display_data"
    }
   ],
   "source": [
    "gamma=0.10936016909654006\n",
    "R0=0.5531935628364816\n",
    "mu=0.015528078784962346\n",
    "T=3 * 365\n",
    "\n",
    "times=[]\n",
    "N=np.random.poisson(mu*T)\n",
    "\n",
    "for i in range(N):\n",
    "  times.append(T*np.random.rand())\n",
    "\n",
    "cnt=0\n",
    "while(cnt<N):\n",
    "  \n",
    "  for i in range(cnt,N):\n",
    "    M=np.random.poisson(R0)\n",
    "    cnt+=1\n",
    "    for j in range(M):\n",
    "      tnew=times[i]+np.random.exponential(1./gamma)\n",
    "      if(tnew<T):\n",
    "        times.append(tnew)\n",
    "        N+=1\n",
    "\n",
    "\n",
    "times=np.sort(times)\n",
    "\n",
    "z=np.ones(times.shape)\n",
    "plt.scatter(times,z)"
   ]
  },
  {
   "cell_type": "code",
   "execution_count": 6,
   "metadata": {},
   "outputs": [],
   "source": [
    "model_code = \"\"\"\n",
    "data {\n",
    "  int N;\n",
    "  real t[N];\n",
    "  int T;\n",
    "}\n",
    "parameters {\n",
    "  real<lower=0> gamma;\n",
    "  real<lower=0,upper=1> R;\n",
    "  real<lower=0> mu;\n",
    "}\n",
    "transformed parameters {\n",
    "  vector[N] lam;\n",
    "\n",
    "  lam[1] = mu;\n",
    "  \n",
    "  for (j in 2:N){\n",
    "    lam[j]=mu;\n",
    "    for(k in 1:(j-1)){\n",
    "     lam[j] = lam[j]+R*gamma*exp(-gamma*(t[j]-t[k]));\n",
    "    }\n",
    "  }\n",
    "}\n",
    "model {\n",
    "  R ~ beta(1,1);\n",
    "  mu ~ exponential(.1);\n",
    "  gamma ~ exponential(.1);\n",
    "  for (j in 1:N){\n",
    "    target+=log(lam[j]);\n",
    "  }\n",
    "  target+=-mu*T-R*N;\n",
    "}\n",
    "\"\"\""
   ]
  },
  {
   "cell_type": "code",
   "execution_count": 7,
   "metadata": {},
   "outputs": [],
   "source": [
    "# make t_numeric into a python list\n",
    "t_numeric = df['t_numeric'].tolist()"
   ]
  },
  {
   "cell_type": "code",
   "execution_count": 8,
   "metadata": {},
   "outputs": [
    {
     "name": "stdout",
     "output_type": "stream",
     "text": [
      "Building...\n"
     ]
    },
    {
     "name": "stderr",
     "output_type": "stream",
     "text": [
      "\n",
      "Building: found in cache, done.Messages from stanc:\n",
      "Warning in '/var/folders/64/7cc975tn74sb3dg4ztck8zsw0000gn/T/httpstan_ajuzqsof/model_ob6maid5.stan', line 4, column 2: Declaration\n",
      "    of arrays by placing brackets after a variable name is deprecated and\n",
      "    will be removed in Stan 2.32.0. Instead use the array keyword before the\n",
      "    type. This can be changed automatically using the auto-format flag to\n",
      "    stanc\n",
      "Sampling:   0%\n",
      "Sampling:   0% (1/2000)\n",
      "Sampling:  15% (300/2000)\n",
      "Sampling:  30% (600/2000)\n",
      "Sampling: 100% (2000/2000)\n",
      "Sampling: 100% (2000/2000), done.\n",
      "Messages received during sampling:\n",
      "  Gradient evaluation took 0.000529 seconds\n",
      "  1000 transitions using 10 leapfrog steps per transition would take 5.29 seconds.\n",
      "  Adjust your expectations accordingly!\n"
     ]
    }
   ],
   "source": [
    "data = {'N': len(t_numeric), 't': t_numeric, 'T': days}\n",
    "posterior = stan.build(model_code, data=data, random_seed=2)\n",
    "fit = posterior.sample(num_chains=1, num_samples=1000)\n",
    "\n"
   ]
  },
  {
   "cell_type": "code",
   "execution_count": 9,
   "metadata": {},
   "outputs": [
    {
     "name": "stdout",
     "output_type": "stream",
     "text": [
      "R_0:  0.5531935628364816\n",
      "R_0 var:  0.19441513120821965\n"
     ]
    }
   ],
   "source": [
    "print(\"R_0: \", np.mean(fit['R']))\n",
    "print(\"R_0 var: \",np.var(fit['R'])**.5)\n",
    "\n",
    "#plt.plot(fit['lam'])"
   ]
  },
  {
   "cell_type": "code",
   "execution_count": 10,
   "metadata": {},
   "outputs": [
    {
     "name": "stdout",
     "output_type": "stream",
     "text": [
      "Gamma:  0.10936016909654006\n",
      "Gamma var:  0.10234810796568136\n"
     ]
    }
   ],
   "source": [
    "print(\"Gamma: \", np.mean(fit['gamma']))\n",
    "print(\"Gamma var: \", np.var(fit['gamma'])**.5)"
   ]
  },
  {
   "cell_type": "code",
   "execution_count": 11,
   "metadata": {},
   "outputs": [
    {
     "name": "stdout",
     "output_type": "stream",
     "text": [
      "Mu:  0.015528078784962346\n",
      "Mu var: 0.006148784290065306\n"
     ]
    }
   ],
   "source": [
    "print(\"Mu: \",np.mean(fit['mu']))\n",
    "print(\"Mu var:\", np.var(fit['mu'])**.5)"
   ]
  }
 ],
 "metadata": {
  "kernelspec": {
   "display_name": "Python 3.10.7 64-bit",
   "language": "python",
   "name": "python3"
  },
  "language_info": {
   "codemirror_mode": {
    "name": "ipython",
    "version": 3
   },
   "file_extension": ".py",
   "mimetype": "text/x-python",
   "name": "python",
   "nbconvert_exporter": "python",
   "pygments_lexer": "ipython3",
   "version": "3.10.7"
  },
  "orig_nbformat": 4,
  "vscode": {
   "interpreter": {
    "hash": "aee8b7b246df8f9039afb4144a1f6fd8d2ca17a180786b69acc140d282b71a49"
   }
  }
 },
 "nbformat": 4,
 "nbformat_minor": 2
}
